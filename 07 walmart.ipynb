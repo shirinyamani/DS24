{
 "cells": [
  {
   "cell_type": "code",
   "execution_count": 2,
   "id": "56fc2b24-e38b-4528-9b4b-dd498aaa18ea",
   "metadata": {},
   "outputs": [],
   "source": [
    "import numpy as np\n",
    "import pandas as pd\n",
    "import seaborn as sns\n",
    "import matplotlib.pyplot as plt\n",
    "%matplotlib inline \n",
    "\n",
    "import warnings\n",
    "warnings.filterwarnings(\"ignore\")"
   ]
  },
  {
   "cell_type": "code",
   "execution_count": 3,
   "id": "78984027-0ac5-4b73-9467-19cd62abff4a",
   "metadata": {},
   "outputs": [],
   "source": [
    "df = pd.read_csv('./datasets/walmart_data.csv')"
   ]
  },
  {
   "cell_type": "markdown",
   "id": "b513df26-1056-40c1-9d3d-72cf26850169",
   "metadata": {},
   "source": [
    "## basic knowledge abt data\n",
    "\n",
    "# 1. Cheack null values"
   ]
  },
  {
   "cell_type": "code",
   "execution_count": 4,
   "id": "b90f7ba1-649a-4b39-b71c-265e8d4723c4",
   "metadata": {},
   "outputs": [
    {
     "data": {
      "text/plain": [
       "(550068, 10)"
      ]
     },
     "execution_count": 4,
     "metadata": {},
     "output_type": "execute_result"
    }
   ],
   "source": [
    "df.shape"
   ]
  },
  {
   "cell_type": "code",
   "execution_count": 5,
   "id": "7941046a-dcce-49b7-8230-934f165ec1b7",
   "metadata": {},
   "outputs": [],
   "source": [
    "total_purchase = df.groupby(\"User_ID\").sum()['Purchase']\n",
    "num_trans = df.groupby(\"User_ID\").count().iloc[:,0]\n",
    "avg_purchase_per_tras = total_purchase / num_trans"
   ]
  },
  {
   "cell_type": "code",
   "execution_count": 6,
   "id": "e7bf4f29-11a6-4f0f-a833-77a4d211044f",
   "metadata": {},
   "outputs": [
    {
     "data": {
      "text/plain": [
       "User_ID\n",
       "1000001     9545.514286\n",
       "1000002    10525.610390\n",
       "1000003    11780.517241\n",
       "1000004    14747.714286\n",
       "1000005     7745.292453\n",
       "               ...     \n",
       "1006036     8007.894942\n",
       "1006037     9176.540984\n",
       "1006038     7502.833333\n",
       "1006039     7977.283784\n",
       "1006040     9184.994444\n",
       "Length: 5891, dtype: float64"
      ]
     },
     "execution_count": 6,
     "metadata": {},
     "output_type": "execute_result"
    }
   ],
   "source": []
  },
  {
   "cell_type": "code",
   "execution_count": 197,
   "id": "1735445f-9e08-4804-b288-c93e21bf24b0",
   "metadata": {},
   "outputs": [
    {
     "data": {
      "text/plain": [
       "0"
      ]
     },
     "execution_count": 197,
     "metadata": {},
     "output_type": "execute_result"
    }
   ],
   "source": [
    "df.duplicated().sum()"
   ]
  },
  {
   "cell_type": "code",
   "execution_count": 20,
   "id": "b1bfa758-6adb-4bcc-a366-4fa183dd1c1d",
   "metadata": {},
   "outputs": [
    {
     "data": {
      "text/plain": [
       "Product_ID\n",
       "P00086242    21256.505495\n",
       "P00085342    20980.268116\n",
       "P00200642    20468.773234\n",
       "P00116142    20463.791277\n",
       "P00119342    20448.756494\n",
       "                 ...     \n",
       "P00372445      374.930705\n",
       "P00375436      374.266585\n",
       "P00371644      362.911012\n",
       "P00370853       37.393643\n",
       "P00370293       36.675159\n",
       "Name: Purchase, Length: 3631, dtype: float64"
      ]
     },
     "execution_count": 20,
     "metadata": {},
     "output_type": "execute_result"
    }
   ],
   "source": [
    "df.groupby(\"Product_ID\")[\"Purchase\"].mean().sort_values(ascending=False)"
   ]
  },
  {
   "cell_type": "code",
   "execution_count": 198,
   "id": "86310491-cc01-4c9e-bfe6-e024a1af2cf5",
   "metadata": {},
   "outputs": [
    {
     "data": {
      "text/html": [
       "<div>\n",
       "<style scoped>\n",
       "    .dataframe tbody tr th:only-of-type {\n",
       "        vertical-align: middle;\n",
       "    }\n",
       "\n",
       "    .dataframe tbody tr th {\n",
       "        vertical-align: top;\n",
       "    }\n",
       "\n",
       "    .dataframe thead th {\n",
       "        text-align: right;\n",
       "    }\n",
       "</style>\n",
       "<table border=\"1\" class=\"dataframe\">\n",
       "  <thead>\n",
       "    <tr style=\"text-align: right;\">\n",
       "      <th></th>\n",
       "      <th>User_ID</th>\n",
       "      <th>Product_ID</th>\n",
       "      <th>Gender</th>\n",
       "      <th>Age</th>\n",
       "      <th>Occupation</th>\n",
       "      <th>City_Category</th>\n",
       "      <th>Stay_In_Current_City_Years</th>\n",
       "      <th>Marital_Status</th>\n",
       "      <th>Product_Category</th>\n",
       "      <th>Purchase</th>\n",
       "    </tr>\n",
       "  </thead>\n",
       "  <tbody>\n",
       "    <tr>\n",
       "      <th>0</th>\n",
       "      <td>1000001</td>\n",
       "      <td>P00069042</td>\n",
       "      <td>F</td>\n",
       "      <td>0-17</td>\n",
       "      <td>10</td>\n",
       "      <td>A</td>\n",
       "      <td>2</td>\n",
       "      <td>0</td>\n",
       "      <td>3</td>\n",
       "      <td>8370</td>\n",
       "    </tr>\n",
       "    <tr>\n",
       "      <th>1</th>\n",
       "      <td>1000001</td>\n",
       "      <td>P00248942</td>\n",
       "      <td>F</td>\n",
       "      <td>0-17</td>\n",
       "      <td>10</td>\n",
       "      <td>A</td>\n",
       "      <td>2</td>\n",
       "      <td>0</td>\n",
       "      <td>1</td>\n",
       "      <td>15200</td>\n",
       "    </tr>\n",
       "    <tr>\n",
       "      <th>2</th>\n",
       "      <td>1000001</td>\n",
       "      <td>P00087842</td>\n",
       "      <td>F</td>\n",
       "      <td>0-17</td>\n",
       "      <td>10</td>\n",
       "      <td>A</td>\n",
       "      <td>2</td>\n",
       "      <td>0</td>\n",
       "      <td>12</td>\n",
       "      <td>1422</td>\n",
       "    </tr>\n",
       "    <tr>\n",
       "      <th>3</th>\n",
       "      <td>1000001</td>\n",
       "      <td>P00085442</td>\n",
       "      <td>F</td>\n",
       "      <td>0-17</td>\n",
       "      <td>10</td>\n",
       "      <td>A</td>\n",
       "      <td>2</td>\n",
       "      <td>0</td>\n",
       "      <td>12</td>\n",
       "      <td>1057</td>\n",
       "    </tr>\n",
       "    <tr>\n",
       "      <th>4</th>\n",
       "      <td>1000002</td>\n",
       "      <td>P00285442</td>\n",
       "      <td>M</td>\n",
       "      <td>55+</td>\n",
       "      <td>16</td>\n",
       "      <td>C</td>\n",
       "      <td>4+</td>\n",
       "      <td>0</td>\n",
       "      <td>8</td>\n",
       "      <td>7969</td>\n",
       "    </tr>\n",
       "    <tr>\n",
       "      <th>5</th>\n",
       "      <td>1000003</td>\n",
       "      <td>P00193542</td>\n",
       "      <td>M</td>\n",
       "      <td>26-35</td>\n",
       "      <td>15</td>\n",
       "      <td>A</td>\n",
       "      <td>3</td>\n",
       "      <td>0</td>\n",
       "      <td>1</td>\n",
       "      <td>15227</td>\n",
       "    </tr>\n",
       "    <tr>\n",
       "      <th>6</th>\n",
       "      <td>1000004</td>\n",
       "      <td>P00184942</td>\n",
       "      <td>M</td>\n",
       "      <td>46-50</td>\n",
       "      <td>7</td>\n",
       "      <td>B</td>\n",
       "      <td>2</td>\n",
       "      <td>1</td>\n",
       "      <td>1</td>\n",
       "      <td>19215</td>\n",
       "    </tr>\n",
       "    <tr>\n",
       "      <th>7</th>\n",
       "      <td>1000004</td>\n",
       "      <td>P00346142</td>\n",
       "      <td>M</td>\n",
       "      <td>46-50</td>\n",
       "      <td>7</td>\n",
       "      <td>B</td>\n",
       "      <td>2</td>\n",
       "      <td>1</td>\n",
       "      <td>1</td>\n",
       "      <td>15854</td>\n",
       "    </tr>\n",
       "    <tr>\n",
       "      <th>8</th>\n",
       "      <td>1000004</td>\n",
       "      <td>P0097242</td>\n",
       "      <td>M</td>\n",
       "      <td>46-50</td>\n",
       "      <td>7</td>\n",
       "      <td>B</td>\n",
       "      <td>2</td>\n",
       "      <td>1</td>\n",
       "      <td>1</td>\n",
       "      <td>15686</td>\n",
       "    </tr>\n",
       "    <tr>\n",
       "      <th>9</th>\n",
       "      <td>1000005</td>\n",
       "      <td>P00274942</td>\n",
       "      <td>M</td>\n",
       "      <td>26-35</td>\n",
       "      <td>20</td>\n",
       "      <td>A</td>\n",
       "      <td>1</td>\n",
       "      <td>1</td>\n",
       "      <td>8</td>\n",
       "      <td>7871</td>\n",
       "    </tr>\n",
       "  </tbody>\n",
       "</table>\n",
       "</div>"
      ],
      "text/plain": [
       "   User_ID Product_ID Gender    Age  Occupation City_Category  \\\n",
       "0  1000001  P00069042      F   0-17          10             A   \n",
       "1  1000001  P00248942      F   0-17          10             A   \n",
       "2  1000001  P00087842      F   0-17          10             A   \n",
       "3  1000001  P00085442      F   0-17          10             A   \n",
       "4  1000002  P00285442      M    55+          16             C   \n",
       "5  1000003  P00193542      M  26-35          15             A   \n",
       "6  1000004  P00184942      M  46-50           7             B   \n",
       "7  1000004  P00346142      M  46-50           7             B   \n",
       "8  1000004   P0097242      M  46-50           7             B   \n",
       "9  1000005  P00274942      M  26-35          20             A   \n",
       "\n",
       "  Stay_In_Current_City_Years  Marital_Status  Product_Category  Purchase  \n",
       "0                          2               0                 3      8370  \n",
       "1                          2               0                 1     15200  \n",
       "2                          2               0                12      1422  \n",
       "3                          2               0                12      1057  \n",
       "4                         4+               0                 8      7969  \n",
       "5                          3               0                 1     15227  \n",
       "6                          2               1                 1     19215  \n",
       "7                          2               1                 1     15854  \n",
       "8                          2               1                 1     15686  \n",
       "9                          1               1                 8      7871  "
      ]
     },
     "execution_count": 198,
     "metadata": {},
     "output_type": "execute_result"
    }
   ],
   "source": [
    "df.head(10)"
   ]
  },
  {
   "cell_type": "code",
   "execution_count": 199,
   "id": "261ff7a2-8619-4ede-a3cd-c1302209aeaa",
   "metadata": {},
   "outputs": [
    {
     "data": {
      "text/plain": [
       "User_ID                        int64\n",
       "Product_ID                    object\n",
       "Gender                        object\n",
       "Age                           object\n",
       "Occupation                     int64\n",
       "City_Category                 object\n",
       "Stay_In_Current_City_Years    object\n",
       "Marital_Status                 int64\n",
       "Product_Category               int64\n",
       "Purchase                       int64\n",
       "dtype: object"
      ]
     },
     "execution_count": 199,
     "metadata": {},
     "output_type": "execute_result"
    }
   ],
   "source": [
    "df.dtypes"
   ]
  },
  {
   "cell_type": "markdown",
   "id": "edea539a-d30c-47a4-951f-b30f050d5132",
   "metadata": {},
   "source": [
    "## plan\n",
    "- check for null + duplicated\n",
    "    - if null \n",
    "        - fillna() OR impute\n",
    "- fix the data values\n",
    "- check for class balances / outliers\n",
    "- feature engineering \n",
    "    - removal of the signs \n",
    "    - see if there is any relation between the features \n",
    "- take care of the cat data \n",
    "    - convert to numeric\n",
    "        - labelencoder\n",
    "        - onehotencoder --> get_dummies \n",
    "- modeling \n",
    "    -split the data\n",
    "    - regression \n",
    "- result"
   ]
  },
  {
   "cell_type": "markdown",
   "id": "68bfd7ff-b316-44f0-8e6b-8a4c6b9b0be6",
   "metadata": {},
   "source": [
    "# 2. Unique values ---> decision for Encoders"
   ]
  },
  {
   "cell_type": "code",
   "execution_count": 200,
   "id": "b0e7d8e9-014a-46fe-9951-46cf36bb8c3a",
   "metadata": {},
   "outputs": [],
   "source": [
    "cat_featues = df.select_dtypes(include='object').columns.tolist()\n",
    "numeric_features = df.select_dtypes(exclude='object').columns.tolist()"
   ]
  },
  {
   "cell_type": "code",
   "execution_count": 201,
   "id": "f1ca3316-6106-440e-965e-8b06635044c0",
   "metadata": {},
   "outputs": [
    {
     "data": {
      "text/plain": [
       "['Product_ID', 'Gender', 'Age', 'City_Category', 'Stay_In_Current_City_Years']"
      ]
     },
     "execution_count": 201,
     "metadata": {},
     "output_type": "execute_result"
    }
   ],
   "source": [
    "cat_featues"
   ]
  },
  {
   "cell_type": "code",
   "execution_count": 202,
   "id": "cc565d05-4eec-44ec-a284-e9bdcec4607d",
   "metadata": {},
   "outputs": [
    {
     "data": {
      "text/plain": [
       "['User_ID', 'Occupation', 'Marital_Status', 'Product_Category', 'Purchase']"
      ]
     },
     "execution_count": 202,
     "metadata": {},
     "output_type": "execute_result"
    }
   ],
   "source": [
    "numeric_features"
   ]
  },
  {
   "cell_type": "code",
   "execution_count": 203,
   "id": "e0b404d0-1841-485b-9d24-63876ed1c4c8",
   "metadata": {},
   "outputs": [],
   "source": [
    "def num_uniq(category, df):\n",
    "    data = {}\n",
    "    for feature in category:\n",
    "        unique = df[feature].nunique()\n",
    "        data[feature] = unique\n",
    "    df_ = pd.DataFrame(data=data, index=[0])\n",
    "    return df_        "
   ]
  },
  {
   "cell_type": "code",
   "execution_count": 204,
   "id": "9bc00725-ae60-45c9-afbf-2b05de8c5e14",
   "metadata": {},
   "outputs": [
    {
     "data": {
      "text/html": [
       "<div>\n",
       "<style scoped>\n",
       "    .dataframe tbody tr th:only-of-type {\n",
       "        vertical-align: middle;\n",
       "    }\n",
       "\n",
       "    .dataframe tbody tr th {\n",
       "        vertical-align: top;\n",
       "    }\n",
       "\n",
       "    .dataframe thead th {\n",
       "        text-align: right;\n",
       "    }\n",
       "</style>\n",
       "<table border=\"1\" class=\"dataframe\">\n",
       "  <thead>\n",
       "    <tr style=\"text-align: right;\">\n",
       "      <th></th>\n",
       "      <th>Product_ID</th>\n",
       "      <th>Gender</th>\n",
       "      <th>Age</th>\n",
       "      <th>City_Category</th>\n",
       "      <th>Stay_In_Current_City_Years</th>\n",
       "    </tr>\n",
       "  </thead>\n",
       "  <tbody>\n",
       "    <tr>\n",
       "      <th>0</th>\n",
       "      <td>3631</td>\n",
       "      <td>2</td>\n",
       "      <td>7</td>\n",
       "      <td>3</td>\n",
       "      <td>5</td>\n",
       "    </tr>\n",
       "  </tbody>\n",
       "</table>\n",
       "</div>"
      ],
      "text/plain": [
       "   Product_ID  Gender  Age  City_Category  Stay_In_Current_City_Years\n",
       "0        3631       2    7              3                           5"
      ]
     },
     "execution_count": 204,
     "metadata": {},
     "output_type": "execute_result"
    }
   ],
   "source": [
    "num_uniq(cat_featues, df)"
   ]
  },
  {
   "cell_type": "code",
   "execution_count": 205,
   "id": "2cd3adb4-ee26-440b-a26a-57e4537f1bde",
   "metadata": {},
   "outputs": [
    {
     "data": {
      "text/html": [
       "<div>\n",
       "<style scoped>\n",
       "    .dataframe tbody tr th:only-of-type {\n",
       "        vertical-align: middle;\n",
       "    }\n",
       "\n",
       "    .dataframe tbody tr th {\n",
       "        vertical-align: top;\n",
       "    }\n",
       "\n",
       "    .dataframe thead th {\n",
       "        text-align: right;\n",
       "    }\n",
       "</style>\n",
       "<table border=\"1\" class=\"dataframe\">\n",
       "  <thead>\n",
       "    <tr style=\"text-align: right;\">\n",
       "      <th></th>\n",
       "      <th>User_ID</th>\n",
       "      <th>Occupation</th>\n",
       "      <th>Marital_Status</th>\n",
       "      <th>Product_Category</th>\n",
       "      <th>Purchase</th>\n",
       "    </tr>\n",
       "  </thead>\n",
       "  <tbody>\n",
       "    <tr>\n",
       "      <th>0</th>\n",
       "      <td>5891</td>\n",
       "      <td>21</td>\n",
       "      <td>2</td>\n",
       "      <td>20</td>\n",
       "      <td>18105</td>\n",
       "    </tr>\n",
       "  </tbody>\n",
       "</table>\n",
       "</div>"
      ],
      "text/plain": [
       "   User_ID  Occupation  Marital_Status  Product_Category  Purchase\n",
       "0     5891          21               2                20     18105"
      ]
     },
     "execution_count": 205,
     "metadata": {},
     "output_type": "execute_result"
    }
   ],
   "source": [
    "num_uniq(numeric_features,df)"
   ]
  },
  {
   "cell_type": "markdown",
   "id": "7e0fb742-a6a6-4a41-9964-50aa9a1172b1",
   "metadata": {},
   "source": [
    "## WHY its important to check for the unique number ?\n",
    "bc of the differene in encoding stratgy \n",
    "2 calss ---> label encoding -----> less memory/computational usage bc onehot enocoder add so many new features (cols) to the dataset\n",
    "\n",
    "## takeout \n",
    "`Gender` and `City_category` and `Age` ---> `labelEncoder`"
   ]
  },
  {
   "cell_type": "code",
   "execution_count": 206,
   "id": "0c00042e-8310-4d7d-a3cf-f28e2a363628",
   "metadata": {},
   "outputs": [
    {
     "data": {
      "text/plain": [
       "Stay_In_Current_City_Years\n",
       "1     193821\n",
       "2     101838\n",
       "3      95285\n",
       "4+     84726\n",
       "0      74398\n",
       "Name: count, dtype: int64"
      ]
     },
     "execution_count": 206,
     "metadata": {},
     "output_type": "execute_result"
    }
   ],
   "source": [
    "df.Stay_In_Current_City_Years.value_counts()"
   ]
  },
  {
   "cell_type": "markdown",
   "id": "f7e17d8d-014b-40f8-9cb3-dee277048f4a",
   "metadata": {},
   "source": [
    "the data sounds like there is no difference between 4 or above, bc all are in the same category, so lets remove the + for now "
   ]
  },
  {
   "cell_type": "code",
   "execution_count": 207,
   "id": "5811926a-3f2b-468f-a052-ca0f2f03103c",
   "metadata": {},
   "outputs": [],
   "source": [
    "def clean(col, df):\n",
    "    df[col] = df[col].astype(str).str.replace('+','')\n",
    "    df[col] = pd.to_numeric(df[col])       "
   ]
  },
  {
   "cell_type": "code",
   "execution_count": 208,
   "id": "6e0a687b-6cb5-4f71-ba6a-c6edfbd513cb",
   "metadata": {},
   "outputs": [],
   "source": [
    "clean('Stay_In_Current_City_Years', df)"
   ]
  },
  {
   "cell_type": "code",
   "execution_count": 209,
   "id": "c2cfa8f9-81a8-474d-b5d3-bfcb7975c82f",
   "metadata": {},
   "outputs": [
    {
     "data": {
      "text/plain": [
       "User_ID                        int64\n",
       "Product_ID                    object\n",
       "Gender                        object\n",
       "Age                           object\n",
       "Occupation                     int64\n",
       "City_Category                 object\n",
       "Stay_In_Current_City_Years     int64\n",
       "Marital_Status                 int64\n",
       "Product_Category               int64\n",
       "Purchase                       int64\n",
       "dtype: object"
      ]
     },
     "execution_count": 209,
     "metadata": {},
     "output_type": "execute_result"
    }
   ],
   "source": [
    "df.dtypes"
   ]
  },
  {
   "cell_type": "code",
   "execution_count": 210,
   "id": "f703941b-73ef-4e36-946e-bc08b67b358a",
   "metadata": {},
   "outputs": [
    {
     "data": {
      "text/html": [
       "<div>\n",
       "<style scoped>\n",
       "    .dataframe tbody tr th:only-of-type {\n",
       "        vertical-align: middle;\n",
       "    }\n",
       "\n",
       "    .dataframe tbody tr th {\n",
       "        vertical-align: top;\n",
       "    }\n",
       "\n",
       "    .dataframe thead th {\n",
       "        text-align: right;\n",
       "    }\n",
       "</style>\n",
       "<table border=\"1\" class=\"dataframe\">\n",
       "  <thead>\n",
       "    <tr style=\"text-align: right;\">\n",
       "      <th></th>\n",
       "      <th>User_ID</th>\n",
       "      <th>Product_ID</th>\n",
       "      <th>Gender</th>\n",
       "      <th>Age</th>\n",
       "      <th>Occupation</th>\n",
       "      <th>City_Category</th>\n",
       "      <th>Stay_In_Current_City_Years</th>\n",
       "      <th>Marital_Status</th>\n",
       "      <th>Product_Category</th>\n",
       "      <th>Purchase</th>\n",
       "    </tr>\n",
       "  </thead>\n",
       "  <tbody>\n",
       "    <tr>\n",
       "      <th>0</th>\n",
       "      <td>1000001</td>\n",
       "      <td>P00069042</td>\n",
       "      <td>F</td>\n",
       "      <td>0-17</td>\n",
       "      <td>10</td>\n",
       "      <td>A</td>\n",
       "      <td>2</td>\n",
       "      <td>0</td>\n",
       "      <td>3</td>\n",
       "      <td>8370</td>\n",
       "    </tr>\n",
       "    <tr>\n",
       "      <th>1</th>\n",
       "      <td>1000001</td>\n",
       "      <td>P00248942</td>\n",
       "      <td>F</td>\n",
       "      <td>0-17</td>\n",
       "      <td>10</td>\n",
       "      <td>A</td>\n",
       "      <td>2</td>\n",
       "      <td>0</td>\n",
       "      <td>1</td>\n",
       "      <td>15200</td>\n",
       "    </tr>\n",
       "    <tr>\n",
       "      <th>2</th>\n",
       "      <td>1000001</td>\n",
       "      <td>P00087842</td>\n",
       "      <td>F</td>\n",
       "      <td>0-17</td>\n",
       "      <td>10</td>\n",
       "      <td>A</td>\n",
       "      <td>2</td>\n",
       "      <td>0</td>\n",
       "      <td>12</td>\n",
       "      <td>1422</td>\n",
       "    </tr>\n",
       "    <tr>\n",
       "      <th>3</th>\n",
       "      <td>1000001</td>\n",
       "      <td>P00085442</td>\n",
       "      <td>F</td>\n",
       "      <td>0-17</td>\n",
       "      <td>10</td>\n",
       "      <td>A</td>\n",
       "      <td>2</td>\n",
       "      <td>0</td>\n",
       "      <td>12</td>\n",
       "      <td>1057</td>\n",
       "    </tr>\n",
       "    <tr>\n",
       "      <th>4</th>\n",
       "      <td>1000002</td>\n",
       "      <td>P00285442</td>\n",
       "      <td>M</td>\n",
       "      <td>55+</td>\n",
       "      <td>16</td>\n",
       "      <td>C</td>\n",
       "      <td>4</td>\n",
       "      <td>0</td>\n",
       "      <td>8</td>\n",
       "      <td>7969</td>\n",
       "    </tr>\n",
       "    <tr>\n",
       "      <th>5</th>\n",
       "      <td>1000003</td>\n",
       "      <td>P00193542</td>\n",
       "      <td>M</td>\n",
       "      <td>26-35</td>\n",
       "      <td>15</td>\n",
       "      <td>A</td>\n",
       "      <td>3</td>\n",
       "      <td>0</td>\n",
       "      <td>1</td>\n",
       "      <td>15227</td>\n",
       "    </tr>\n",
       "    <tr>\n",
       "      <th>6</th>\n",
       "      <td>1000004</td>\n",
       "      <td>P00184942</td>\n",
       "      <td>M</td>\n",
       "      <td>46-50</td>\n",
       "      <td>7</td>\n",
       "      <td>B</td>\n",
       "      <td>2</td>\n",
       "      <td>1</td>\n",
       "      <td>1</td>\n",
       "      <td>19215</td>\n",
       "    </tr>\n",
       "    <tr>\n",
       "      <th>7</th>\n",
       "      <td>1000004</td>\n",
       "      <td>P00346142</td>\n",
       "      <td>M</td>\n",
       "      <td>46-50</td>\n",
       "      <td>7</td>\n",
       "      <td>B</td>\n",
       "      <td>2</td>\n",
       "      <td>1</td>\n",
       "      <td>1</td>\n",
       "      <td>15854</td>\n",
       "    </tr>\n",
       "    <tr>\n",
       "      <th>8</th>\n",
       "      <td>1000004</td>\n",
       "      <td>P0097242</td>\n",
       "      <td>M</td>\n",
       "      <td>46-50</td>\n",
       "      <td>7</td>\n",
       "      <td>B</td>\n",
       "      <td>2</td>\n",
       "      <td>1</td>\n",
       "      <td>1</td>\n",
       "      <td>15686</td>\n",
       "    </tr>\n",
       "    <tr>\n",
       "      <th>9</th>\n",
       "      <td>1000005</td>\n",
       "      <td>P00274942</td>\n",
       "      <td>M</td>\n",
       "      <td>26-35</td>\n",
       "      <td>20</td>\n",
       "      <td>A</td>\n",
       "      <td>1</td>\n",
       "      <td>1</td>\n",
       "      <td>8</td>\n",
       "      <td>7871</td>\n",
       "    </tr>\n",
       "  </tbody>\n",
       "</table>\n",
       "</div>"
      ],
      "text/plain": [
       "   User_ID Product_ID Gender    Age  Occupation City_Category  \\\n",
       "0  1000001  P00069042      F   0-17          10             A   \n",
       "1  1000001  P00248942      F   0-17          10             A   \n",
       "2  1000001  P00087842      F   0-17          10             A   \n",
       "3  1000001  P00085442      F   0-17          10             A   \n",
       "4  1000002  P00285442      M    55+          16             C   \n",
       "5  1000003  P00193542      M  26-35          15             A   \n",
       "6  1000004  P00184942      M  46-50           7             B   \n",
       "7  1000004  P00346142      M  46-50           7             B   \n",
       "8  1000004   P0097242      M  46-50           7             B   \n",
       "9  1000005  P00274942      M  26-35          20             A   \n",
       "\n",
       "   Stay_In_Current_City_Years  Marital_Status  Product_Category  Purchase  \n",
       "0                           2               0                 3      8370  \n",
       "1                           2               0                 1     15200  \n",
       "2                           2               0                12      1422  \n",
       "3                           2               0                12      1057  \n",
       "4                           4               0                 8      7969  \n",
       "5                           3               0                 1     15227  \n",
       "6                           2               1                 1     19215  \n",
       "7                           2               1                 1     15854  \n",
       "8                           2               1                 1     15686  \n",
       "9                           1               1                 8      7871  "
      ]
     },
     "execution_count": 210,
     "metadata": {},
     "output_type": "execute_result"
    }
   ],
   "source": [
    "df.head(10)"
   ]
  },
  {
   "cell_type": "code",
   "execution_count": 211,
   "id": "549ca030-07a5-4364-908e-485c09f846d3",
   "metadata": {},
   "outputs": [
    {
     "data": {
      "text/plain": [
       "Index(['User_ID', 'Product_ID', 'Gender', 'Age', 'Occupation', 'City_Category',\n",
       "       'Stay_In_Current_City_Years', 'Marital_Status', 'Product_Category',\n",
       "       'Purchase'],\n",
       "      dtype='object')"
      ]
     },
     "execution_count": 211,
     "metadata": {},
     "output_type": "execute_result"
    }
   ],
   "source": [
    "df.columns"
   ]
  },
  {
   "cell_type": "code",
   "execution_count": 212,
   "id": "6c42444f-d8fb-4c82-878d-2bc7472cbc32",
   "metadata": {},
   "outputs": [
    {
     "data": {
      "text/plain": [
       "Age\n",
       "26-35    219587\n",
       "36-45    110013\n",
       "18-25     99660\n",
       "46-50     45701\n",
       "51-55     38501\n",
       "55+       21504\n",
       "0-17      15102\n",
       "Name: count, dtype: int64"
      ]
     },
     "execution_count": 212,
     "metadata": {},
     "output_type": "execute_result"
    }
   ],
   "source": [
    "df.Age.value_counts()"
   ]
  },
  {
   "cell_type": "code",
   "execution_count": 213,
   "id": "5a6c94ac-385a-4807-94a5-0cd36900264a",
   "metadata": {},
   "outputs": [
    {
     "data": {
      "text/plain": [
       "User_ID  Age    Gender\n",
       "1004277  36-45  M         10536909\n",
       "1001680  26-35  M          8699596\n",
       "1002909  26-35  M          7577756\n",
       "1001941  36-45  M          6817493\n",
       "1000424  26-35  M          6573609\n",
       "                            ...   \n",
       "1004991  55+    F            52371\n",
       "1005117  26-35  F            49668\n",
       "1003883  51-55  M            49349\n",
       "1000094  26-35  M            49288\n",
       "1004464  51-55  F            46681\n",
       "Name: Purchase, Length: 5891, dtype: int64"
      ]
     },
     "execution_count": 213,
     "metadata": {},
     "output_type": "execute_result"
    }
   ],
   "source": [
    "df.groupby(['User_ID', 'Age', 'Gender'])['Purchase'].sum().sort_values(ascending=False)"
   ]
  },
  {
   "cell_type": "code",
   "execution_count": 214,
   "id": "3d8759fd-2125-4e73-a4d1-4befda161a6b",
   "metadata": {},
   "outputs": [
    {
     "data": {
      "text/plain": [
       "Gender\n",
       "M    414259\n",
       "F    135809\n",
       "Name: count, dtype: int64"
      ]
     },
     "execution_count": 214,
     "metadata": {},
     "output_type": "execute_result"
    }
   ],
   "source": [
    "df.Gender.value_counts()"
   ]
  },
  {
   "cell_type": "markdown",
   "id": "9e7bb499-d377-4b9b-b6f9-388e36e438ff",
   "metadata": {},
   "source": [
    "# 3. Data Visualization \n",
    "## 3.1. Categorical data"
   ]
  },
  {
   "cell_type": "code",
   "execution_count": 215,
   "id": "3880ff04-e1e5-47da-b324-4751edf33c72",
   "metadata": {},
   "outputs": [],
   "source": [
    "cat_fz = df.select_dtypes(include='object').columns.tolist()"
   ]
  },
  {
   "cell_type": "code",
   "execution_count": 327,
   "id": "a91b53a1-d530-4fc6-8f3b-359db8cf9b39",
   "metadata": {},
   "outputs": [],
   "source": [
    "a = df.groupby(['Gender', 'Age'])['Purchase'].sum().sort_values(ascending=False) #series"
   ]
  },
  {
   "cell_type": "code",
   "execution_count": 328,
   "id": "969494b9-7d1b-459a-94fc-e14bd110864e",
   "metadata": {},
   "outputs": [],
   "source": [
    "b = df.groupby(['Gender', 'Age'])[['Purchase']].sum().sort_values(by='Purchase') #dataframe"
   ]
  },
  {
   "cell_type": "code",
   "execution_count": null,
   "id": "31b15b5a-2850-4987-8ce9-b865108ce51c",
   "metadata": {},
   "outputs": [],
   "source": []
  },
  {
   "cell_type": "code",
   "execution_count": 217,
   "id": "7ff27b50-bb73-45f5-a747-dfb027ed7d9d",
   "metadata": {},
   "outputs": [],
   "source": [
    "cat_fz.remove('Product_ID')"
   ]
  },
  {
   "cell_type": "code",
   "execution_count": 221,
   "id": "78585363-d2e6-414d-bb2c-4723778a6ee0",
   "metadata": {},
   "outputs": [
    {
     "data": {
      "text/plain": [
       "['Gender', 'Age', 'City_Category']"
      ]
     },
     "execution_count": 221,
     "metadata": {},
     "output_type": "execute_result"
    }
   ],
   "source": [
    "cat_fz"
   ]
  },
  {
   "cell_type": "code",
   "execution_count": 285,
   "id": "c7723cf2-67e4-498d-8425-9403bfe42d15",
   "metadata": {},
   "outputs": [
    {
     "data": {
      "image/png": "[encoded data removed]",
      "text/plain": [
       "<Figure size 2000x400 with 3 Axes>"
      ]
     },
     "metadata": {},
     "output_type": "display_data"
    }
   ],
   "source": [
    "plot, axes = plt.subplots(1,3, figsize=(20,4))\n",
    "\n",
    "for i, feature in enumerate(cat_fz):\n",
    "    sns.countplot(data=df, x=feature, ax=axes[i], palette='Set2')\n",
    "    axes[1].set_xticklabels(labels=axes[1].get_xticklabels(), rotation=45)\n",
    "    axes[i].set_ylabel('')    "
   ]
  },
  {
   "cell_type": "markdown",
   "id": "2c821e80-ed80-4e70-8d83-9949b6051916",
   "metadata": {},
   "source": [
    "## 2 by 2 cat visualization "
   ]
  },
  {
   "cell_type": "code",
   "execution_count": 288,
   "id": "06488471-f431-4502-b4f0-5d44fbb1260c",
   "metadata": {},
   "outputs": [
    {
     "data": {
      "image/png": "[encoded data removed]",
      "text/plain": [
       "<Figure size 640x480 with 1 Axes>"
      ]
     },
     "metadata": {},
     "output_type": "display_data"
    }
   ],
   "source": [
    "sns.boxplot(data=df, x=df['Gender'], y=df['Purchase'], hue=df['Age'])\n",
    "plt.show()"
   ]
  },
  {
   "cell_type": "code",
   "execution_count": 306,
   "id": "a477f3e4-3e8a-4fd3-b00e-a826a06a2541",
   "metadata": {},
   "outputs": [],
   "source": [
    "f_gender = df[df.Gender == 'F'].Age.value_counts() #felmale purchase"
   ]
  },
  {
   "cell_type": "code",
   "execution_count": 313,
   "id": "5d219843-ee8f-4916-a75a-d639f36a2d21",
   "metadata": {},
   "outputs": [
    {
     "data": {
      "image/png": "[encoded data removed]",
      "text/plain": [
       "<Figure size 500x500 with 1 Axes>"
      ]
     },
     "metadata": {},
     "output_type": "display_data"
    }
   ],
   "source": [
    "fig, ax = plt.subplots(figsize=(5,5))\n",
    "plt.pie(x=f_gender, labels=f_gender.index, colors=sns.set_palette('Set1'), autopct='%.1f%%')\n",
    "plt.title('Female Purchase Age range')\n",
    "plt.show()\n"
   ]
  },
  {
   "cell_type": "markdown",
   "id": "29cb2eb4-37c6-47fb-8435-b6ccd15180a5",
   "metadata": {},
   "source": [
    "## Takeout\n",
    "- we have a very inbalaced data in the `Gender` feature. the Male are roughly more than 3 times females\n",
    "- the biggest shopping range age in ladies are 26-35\n",
    "\n",
    "## 3.2) Numeric Features"
   ]
  },
  {
   "cell_type": "code",
   "execution_count": 239,
   "id": "5eabb64a-c638-4ae7-b318-32373d8d3d25",
   "metadata": {},
   "outputs": [],
   "source": [
    "numeric = df.select_dtypes(exclude='object').columns.tolist()"
   ]
  },
  {
   "cell_type": "code",
   "execution_count": 241,
   "id": "ec7ab6a5-7cec-4843-a0d4-f7c5d6daf087",
   "metadata": {},
   "outputs": [],
   "source": [
    "numeric.remove('User_ID')"
   ]
  },
  {
   "cell_type": "code",
   "execution_count": 247,
   "id": "0ff5cd33-be00-42cd-88ab-14dfbf95e2bc",
   "metadata": {},
   "outputs": [
    {
     "data": {
      "text/plain": [
       "['Occupation',\n",
       " 'Stay_In_Current_City_Years',\n",
       " 'Marital_Status',\n",
       " 'Product_Category',\n",
       " 'Purchase']"
      ]
     },
     "execution_count": 247,
     "metadata": {},
     "output_type": "execute_result"
    }
   ],
   "source": [
    "numeric"
   ]
  },
  {
   "cell_type": "code",
   "execution_count": 283,
   "id": "9aca6d7d-ef5d-457c-ad3c-ae4286f91fd5",
   "metadata": {
    "scrolled": true
   },
   "outputs": [
    {
     "data": {
      "image/png": "[encoded data removed]",
      "text/plain": [
       "<Figure size 2600x400 with 5 Axes>"
      ]
     },
     "metadata": {},
     "output_type": "display_data"
    }
   ],
   "source": [
    "plot, axs = plt.subplots(1,5, figsize=(26,4))\n",
    "axs = axs.flatten()\n",
    "for i, feature in enumerate(numeric):\n",
    "    colors = ['blue', 'red', 'green', 'yellow', 'orange']\n",
    "    if i == 4:\n",
    "        sns.histplot(data=df, x=feature, ax=axs[i], bins=50, kde=True)\n",
    "    sns.histplot(data=df, x=feature, ax=axs[i], bins=50, color=colors[i % len(colors)])\n",
    "    axs[i].set_ylabel('')\n",
    "    "
   ]
  },
  {
   "cell_type": "code",
   "execution_count": 271,
   "id": "e12feb8f-7538-43be-8e3d-f57be387383d",
   "metadata": {},
   "outputs": [
    {
     "data": {
      "text/plain": [
       "0.6001400037087128"
      ]
     },
     "execution_count": 271,
     "metadata": {},
     "output_type": "execute_result"
    }
   ],
   "source": [
    "df.Purchase.skew()"
   ]
  },
  {
   "cell_type": "code",
   "execution_count": 277,
   "id": "3fc77fe2-a84b-4162-9b7f-c615700ae00e",
   "metadata": {},
   "outputs": [
    {
     "data": {
      "text/plain": [
       "count    550068.000000\n",
       "mean       9263.968713\n",
       "std        5023.065394\n",
       "min          12.000000\n",
       "25%        5823.000000\n",
       "50%        8047.000000\n",
       "75%       12054.000000\n",
       "max       23961.000000\n",
       "Name: Purchase, dtype: float64"
      ]
     },
     "execution_count": 277,
     "metadata": {},
     "output_type": "execute_result"
    }
   ],
   "source": [
    "df.Purchase.describe()"
   ]
  },
  {
   "cell_type": "code",
   "execution_count": 349,
   "id": "c07b64e4-e771-4a81-8c91-b7816f9f2311",
   "metadata": {},
   "outputs": [
    {
     "data": {
      "image/png": "[encoded data removed]",
      "text/plain": [
       "<Figure size 640x480 with 1 Axes>"
      ]
     },
     "metadata": {},
     "output_type": "display_data"
    }
   ],
   "source": [
    "sns.boxplot(data=df, x=df['Purchase'])\n",
    "plt.show()"
   ]
  },
  {
   "cell_type": "markdown",
   "id": "1fcb343a-da92-4fb0-b63a-b914012a42c6",
   "metadata": {},
   "source": [
    "## Takeouts\n",
    "- sounds like in purchase we have outlier looking at the mean of it and the max\n",
    "- majority of the dataset are single and they tend to shop more than the married "
   ]
  },
  {
   "cell_type": "markdown",
   "id": "5b848093-247e-4e5c-b394-8c34d8c545f5",
   "metadata": {},
   "source": [
    "# Data prep for modeling "
   ]
  },
  {
   "cell_type": "code",
   "execution_count": 350,
   "id": "555db7c1-29a0-4c2d-b484-8a156a97772c",
   "metadata": {},
   "outputs": [],
   "source": [
    "cat_featues = df.select_dtypes(include='object').columns.tolist()\n",
    "numeric_features = df.select_dtypes(exclude='object').columns.tolist()"
   ]
  },
  {
   "cell_type": "code",
   "execution_count": 352,
   "id": "6c8cc10e-52a0-42a3-abd8-689bf64b6aae",
   "metadata": {},
   "outputs": [],
   "source": [
    "cat_featues.remove('Gender')"
   ]
  },
  {
   "cell_type": "code",
   "execution_count": 353,
   "id": "e74bc864-d2c2-46f1-b93f-753aa1a38cde",
   "metadata": {},
   "outputs": [
    {
     "data": {
      "text/plain": [
       "['Product_ID', 'Age', 'City_Category']"
      ]
     },
     "execution_count": 353,
     "metadata": {},
     "output_type": "execute_result"
    }
   ],
   "source": [
    "cat_featues"
   ]
  },
  {
   "cell_type": "code",
   "execution_count": 364,
   "id": "0900f171-1907-43d2-9dfd-4b27954e6a5b",
   "metadata": {},
   "outputs": [],
   "source": [
    "val_counts = {}\n",
    "for i,feature in enumerate(cat_featues):\n",
    "    val_counts[feature[i]] = df[feature].value_counts()\n",
    "    \n",
    "    "
   ]
  },
  {
   "cell_type": "code",
   "execution_count": 379,
   "id": "66feed01-c976-48f9-9059-58adda616e96",
   "metadata": {},
   "outputs": [
    {
     "data": {
      "text/plain": [
       "Product_ID\n",
       "P00000142    [3]\n",
       "P00000242    [2]\n",
       "P00000342    [5]\n",
       "P00000442    [5]\n",
       "P00000542    [5]\n",
       "            ... \n",
       "P0099442     [6]\n",
       "P0099642     [8]\n",
       "P0099742     [3]\n",
       "P0099842     [5]\n",
       "P0099942     [5]\n",
       "Name: Product_Category, Length: 3631, dtype: object"
      ]
     },
     "execution_count": 379,
     "metadata": {},
     "output_type": "execute_result"
    }
   ],
   "source": [
    "df.groupby('Product_ID')['Product_Category'].unique()"
   ]
  },
  {
   "cell_type": "code",
   "execution_count": null,
   "id": "bfcec7dc-4fb8-457e-9eb9-974f8a381623",
   "metadata": {},
   "outputs": [],
   "source": [
    "a = df.groupby(['Gender', 'Age'])['Purchase'].sum().sort_values(ascending=False) #series"
   ]
  },
  {
   "cell_type": "code",
   "execution_count": 381,
   "id": "cef8a417-e3d8-4ce7-992b-f2f8572e3762",
   "metadata": {},
   "outputs": [
    {
     "data": {
      "text/html": [
       "<div>\n",
       "<style scoped>\n",
       "    .dataframe tbody tr th:only-of-type {\n",
       "        vertical-align: middle;\n",
       "    }\n",
       "\n",
       "    .dataframe tbody tr th {\n",
       "        vertical-align: top;\n",
       "    }\n",
       "\n",
       "    .dataframe thead th {\n",
       "        text-align: right;\n",
       "    }\n",
       "</style>\n",
       "<table border=\"1\" class=\"dataframe\">\n",
       "  <thead>\n",
       "    <tr style=\"text-align: right;\">\n",
       "      <th></th>\n",
       "      <th>Product_ID</th>\n",
       "      <th>Product_Category</th>\n",
       "    </tr>\n",
       "  </thead>\n",
       "  <tbody>\n",
       "    <tr>\n",
       "      <th>0</th>\n",
       "      <td>P00000142</td>\n",
       "      <td>3</td>\n",
       "    </tr>\n",
       "    <tr>\n",
       "      <th>1</th>\n",
       "      <td>P00000242</td>\n",
       "      <td>2</td>\n",
       "    </tr>\n",
       "    <tr>\n",
       "      <th>2</th>\n",
       "      <td>P00000342</td>\n",
       "      <td>5</td>\n",
       "    </tr>\n",
       "    <tr>\n",
       "      <th>3</th>\n",
       "      <td>P00000442</td>\n",
       "      <td>5</td>\n",
       "    </tr>\n",
       "    <tr>\n",
       "      <th>4</th>\n",
       "      <td>P00000542</td>\n",
       "      <td>5</td>\n",
       "    </tr>\n",
       "    <tr>\n",
       "      <th>...</th>\n",
       "      <td>...</td>\n",
       "      <td>...</td>\n",
       "    </tr>\n",
       "    <tr>\n",
       "      <th>3626</th>\n",
       "      <td>P0099442</td>\n",
       "      <td>6</td>\n",
       "    </tr>\n",
       "    <tr>\n",
       "      <th>3627</th>\n",
       "      <td>P0099642</td>\n",
       "      <td>8</td>\n",
       "    </tr>\n",
       "    <tr>\n",
       "      <th>3628</th>\n",
       "      <td>P0099742</td>\n",
       "      <td>3</td>\n",
       "    </tr>\n",
       "    <tr>\n",
       "      <th>3629</th>\n",
       "      <td>P0099842</td>\n",
       "      <td>5</td>\n",
       "    </tr>\n",
       "    <tr>\n",
       "      <th>3630</th>\n",
       "      <td>P0099942</td>\n",
       "      <td>5</td>\n",
       "    </tr>\n",
       "  </tbody>\n",
       "</table>\n",
       "<p>3631 rows × 2 columns</p>\n",
       "</div>"
      ],
      "text/plain": [
       "     Product_ID Product_Category\n",
       "0     P00000142                3\n",
       "1     P00000242                2\n",
       "2     P00000342                5\n",
       "3     P00000442                5\n",
       "4     P00000542                5\n",
       "...         ...              ...\n",
       "3626   P0099442                6\n",
       "3627   P0099642                8\n",
       "3628   P0099742                3\n",
       "3629   P0099842                5\n",
       "3630   P0099942                5\n",
       "\n",
       "[3631 rows x 2 columns]"
      ]
     },
     "execution_count": 381,
     "metadata": {},
     "output_type": "execute_result"
    }
   ],
   "source": [
    "# Group by Product_ID and concatenate the unique Product_Category values\n",
    "product_id_category = df.groupby('Product_ID')['Product_Category'].apply(lambda x: ','.join(x.astype(str).unique())).reset_index()\n",
    "\n",
    "product_id_category"
   ]
  },
  {
   "cell_type": "code",
   "execution_count": 384,
   "id": "032c9ed8-d39b-4ff2-959c-00818bed426e",
   "metadata": {},
   "outputs": [
    {
     "data": {
      "text/plain": [
       "3631"
      ]
     },
     "execution_count": 384,
     "metadata": {},
     "output_type": "execute_result"
    }
   ],
   "source": [
    "df.Product_ID.nunique()"
   ]
  },
  {
   "cell_type": "code",
   "execution_count": 385,
   "id": "3929e188-8c0b-4a5b-b5ff-56f3158cb412",
   "metadata": {},
   "outputs": [
    {
     "data": {
      "text/plain": [
       "Product_ID\n",
       "P00265242    1880\n",
       "P00025442    1615\n",
       "P00110742    1612\n",
       "P00112142    1562\n",
       "P00057642    1470\n",
       "             ... \n",
       "P00314842       1\n",
       "P00298842       1\n",
       "P00231642       1\n",
       "P00204442       1\n",
       "P00066342       1\n",
       "Name: count, Length: 3631, dtype: int64"
      ]
     },
     "execution_count": 385,
     "metadata": {},
     "output_type": "execute_result"
    }
   ],
   "source": [
    "df.Product_ID.value_counts()"
   ]
  },
  {
   "cell_type": "code",
   "execution_count": 387,
   "id": "3a61093d-851c-484c-8b06-e399ac109d46",
   "metadata": {},
   "outputs": [
    {
     "data": {
      "text/html": [
       "<div>\n",
       "<style scoped>\n",
       "    .dataframe tbody tr th:only-of-type {\n",
       "        vertical-align: middle;\n",
       "    }\n",
       "\n",
       "    .dataframe tbody tr th {\n",
       "        vertical-align: top;\n",
       "    }\n",
       "\n",
       "    .dataframe thead th {\n",
       "        text-align: right;\n",
       "    }\n",
       "</style>\n",
       "<table border=\"1\" class=\"dataframe\">\n",
       "  <thead>\n",
       "    <tr style=\"text-align: right;\">\n",
       "      <th></th>\n",
       "      <th>User_ID</th>\n",
       "      <th>Product_ID</th>\n",
       "      <th>Gender</th>\n",
       "      <th>Age</th>\n",
       "      <th>Occupation</th>\n",
       "      <th>City_Category</th>\n",
       "      <th>Stay_In_Current_City_Years</th>\n",
       "      <th>Marital_Status</th>\n",
       "      <th>Product_Category</th>\n",
       "      <th>Purchase</th>\n",
       "    </tr>\n",
       "  </thead>\n",
       "  <tbody>\n",
       "    <tr>\n",
       "      <th>0</th>\n",
       "      <td>1000001</td>\n",
       "      <td>P00069042</td>\n",
       "      <td>F</td>\n",
       "      <td>0-17</td>\n",
       "      <td>10</td>\n",
       "      <td>A</td>\n",
       "      <td>2</td>\n",
       "      <td>0</td>\n",
       "      <td>3</td>\n",
       "      <td>8370</td>\n",
       "    </tr>\n",
       "    <tr>\n",
       "      <th>1</th>\n",
       "      <td>1000001</td>\n",
       "      <td>P00248942</td>\n",
       "      <td>F</td>\n",
       "      <td>0-17</td>\n",
       "      <td>10</td>\n",
       "      <td>A</td>\n",
       "      <td>2</td>\n",
       "      <td>0</td>\n",
       "      <td>1</td>\n",
       "      <td>15200</td>\n",
       "    </tr>\n",
       "    <tr>\n",
       "      <th>2</th>\n",
       "      <td>1000001</td>\n",
       "      <td>P00087842</td>\n",
       "      <td>F</td>\n",
       "      <td>0-17</td>\n",
       "      <td>10</td>\n",
       "      <td>A</td>\n",
       "      <td>2</td>\n",
       "      <td>0</td>\n",
       "      <td>12</td>\n",
       "      <td>1422</td>\n",
       "    </tr>\n",
       "    <tr>\n",
       "      <th>3</th>\n",
       "      <td>1000001</td>\n",
       "      <td>P00085442</td>\n",
       "      <td>F</td>\n",
       "      <td>0-17</td>\n",
       "      <td>10</td>\n",
       "      <td>A</td>\n",
       "      <td>2</td>\n",
       "      <td>0</td>\n",
       "      <td>12</td>\n",
       "      <td>1057</td>\n",
       "    </tr>\n",
       "    <tr>\n",
       "      <th>4</th>\n",
       "      <td>1000002</td>\n",
       "      <td>P00285442</td>\n",
       "      <td>M</td>\n",
       "      <td>55+</td>\n",
       "      <td>16</td>\n",
       "      <td>C</td>\n",
       "      <td>4</td>\n",
       "      <td>0</td>\n",
       "      <td>8</td>\n",
       "      <td>7969</td>\n",
       "    </tr>\n",
       "    <tr>\n",
       "      <th>5</th>\n",
       "      <td>1000003</td>\n",
       "      <td>P00193542</td>\n",
       "      <td>M</td>\n",
       "      <td>26-35</td>\n",
       "      <td>15</td>\n",
       "      <td>A</td>\n",
       "      <td>3</td>\n",
       "      <td>0</td>\n",
       "      <td>1</td>\n",
       "      <td>15227</td>\n",
       "    </tr>\n",
       "    <tr>\n",
       "      <th>6</th>\n",
       "      <td>1000004</td>\n",
       "      <td>P00184942</td>\n",
       "      <td>M</td>\n",
       "      <td>46-50</td>\n",
       "      <td>7</td>\n",
       "      <td>B</td>\n",
       "      <td>2</td>\n",
       "      <td>1</td>\n",
       "      <td>1</td>\n",
       "      <td>19215</td>\n",
       "    </tr>\n",
       "    <tr>\n",
       "      <th>7</th>\n",
       "      <td>1000004</td>\n",
       "      <td>P00346142</td>\n",
       "      <td>M</td>\n",
       "      <td>46-50</td>\n",
       "      <td>7</td>\n",
       "      <td>B</td>\n",
       "      <td>2</td>\n",
       "      <td>1</td>\n",
       "      <td>1</td>\n",
       "      <td>15854</td>\n",
       "    </tr>\n",
       "    <tr>\n",
       "      <th>8</th>\n",
       "      <td>1000004</td>\n",
       "      <td>P0097242</td>\n",
       "      <td>M</td>\n",
       "      <td>46-50</td>\n",
       "      <td>7</td>\n",
       "      <td>B</td>\n",
       "      <td>2</td>\n",
       "      <td>1</td>\n",
       "      <td>1</td>\n",
       "      <td>15686</td>\n",
       "    </tr>\n",
       "    <tr>\n",
       "      <th>9</th>\n",
       "      <td>1000005</td>\n",
       "      <td>P00274942</td>\n",
       "      <td>M</td>\n",
       "      <td>26-35</td>\n",
       "      <td>20</td>\n",
       "      <td>A</td>\n",
       "      <td>1</td>\n",
       "      <td>1</td>\n",
       "      <td>8</td>\n",
       "      <td>7871</td>\n",
       "    </tr>\n",
       "  </tbody>\n",
       "</table>\n",
       "</div>"
      ],
      "text/plain": [
       "   User_ID Product_ID Gender    Age  Occupation City_Category  \\\n",
       "0  1000001  P00069042      F   0-17          10             A   \n",
       "1  1000001  P00248942      F   0-17          10             A   \n",
       "2  1000001  P00087842      F   0-17          10             A   \n",
       "3  1000001  P00085442      F   0-17          10             A   \n",
       "4  1000002  P00285442      M    55+          16             C   \n",
       "5  1000003  P00193542      M  26-35          15             A   \n",
       "6  1000004  P00184942      M  46-50           7             B   \n",
       "7  1000004  P00346142      M  46-50           7             B   \n",
       "8  1000004   P0097242      M  46-50           7             B   \n",
       "9  1000005  P00274942      M  26-35          20             A   \n",
       "\n",
       "   Stay_In_Current_City_Years  Marital_Status  Product_Category  Purchase  \n",
       "0                           2               0                 3      8370  \n",
       "1                           2               0                 1     15200  \n",
       "2                           2               0                12      1422  \n",
       "3                           2               0                12      1057  \n",
       "4                           4               0                 8      7969  \n",
       "5                           3               0                 1     15227  \n",
       "6                           2               1                 1     19215  \n",
       "7                           2               1                 1     15854  \n",
       "8                           2               1                 1     15686  \n",
       "9                           1               1                 8      7871  "
      ]
     },
     "execution_count": 387,
     "metadata": {},
     "output_type": "execute_result"
    }
   ],
   "source": [
    "df.head(10)"
   ]
  },
  {
   "cell_type": "code",
   "execution_count": null,
   "id": "aa0270fb-8823-433e-888b-10286f44d186",
   "metadata": {},
   "outputs": [],
   "source": []
  }
 ],
 "metadata": {
  "kernelspec": {
   "display_name": "Python 3 (ipykernel)",
   "language": "python",
   "name": "python3"
  },
  "language_info": {
   "codemirror_mode": {
    "name": "ipython",
    "version": 3
   },
   "file_extension": ".py",
   "mimetype": "text/x-python",
   "name": "python",
   "nbconvert_exporter": "python",
   "pygments_lexer": "ipython3",
   "version": "3.10.12"
  }
 },
 "nbformat": 4,
 "nbformat_minor": 5
}
